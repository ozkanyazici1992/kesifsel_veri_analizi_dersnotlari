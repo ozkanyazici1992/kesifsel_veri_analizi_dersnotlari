{
 "cells": [
  {
   "cell_type": "markdown",
   "metadata": {},
   "source": [
    "- Veri toplama sürecindeki bir hata aykırı değerler oluşturabilir. Örneğin, değerlerin bin dolar olarak depolandığı excel'deki bir maaş sütunu için, 100 yerine 100.000 yazıyorsak, o zaman bu yaptığımız yazım hatası nedeniyle bir aykırı değer olacaktır. Ölçüm hataları da bu tür başka bir kaynaktır.\n",
    "\n",
    "- Bazen, verileri üreten süreçler aykırı değerler olarak kabul edilebilecek aşırı ve nadir değerler üretir. Bu durumda, anormal veriler bir ölçüm hatasından değil, çok veri üretme işleminden kaynaklanmaktadır. Ancak, bu anormal veriler nadir olmalıdır."
   ]
  },
  {
   "cell_type": "markdown",
   "metadata": {},
   "source": [
    "- neden aykırı değerleri sevmiyoruz\n",
    "- aykırı değerlerin bulunması\n",
    "- aykırı değerler nasıl düzeltilir\n",
    "\n",
    "aykırı değerlerin kategorik olanlar için değil sürekli değişkenler için tanımlandığını vurgulamak istiyoruz."
   ]
  },
  {
   "cell_type": "markdown",
   "metadata": {},
   "source": [
    "# 1. Aykırı değerleri sevmiyor muyuz?\n",
    "Aykırı olanları sevmek ya da sevmemek, görevimizin ne olduğuyla ilgilidir. Veri bilimindeki uygulamaların çoğu için aykırı değerlerden hoşlanmayız, çünkü:\n",
    "\n",
    "- Verilerin açıklama ölçütlerini başka tarafa çekerler. Örnek olarak, bir değişkenin merkezi eğilimini düşünün. Ortalama en yaygın kullanılan merkezi eğilim istatistiklerinden biridir. Bununla birlikte, aykırı değerlerden muzdariptir.\n",
    "\n",
    "- Bazı makine öğrenme modelleri aşırı değerlere duyarlıdır. Dolayısıyla, doğru tahminler alabilmek için bu değerleri veri kümemizden çıkarmamız gerekir."
   ]
  },
  {
   "cell_type": "markdown",
   "metadata": {},
   "source": [
    "# 2. Aykırı değerlerin bulunması\n",
    "Aykırı değerlerin tespiti, bunların ele alınmasında ilk adımdır. Bununla birlikte, bir aykırı değerin ne olduğunu tanımlamak için altın bir kural olmadığını vurgulamalıyız! Aykırı değerlerden bahsederken, onların nadir ve aşırı değerlere sahip olduklarından emin olmalıyız. Ancak, nadirlik ve aşırılığı tanımlamak öznel bir yargıdır ve üzerinde çalıştığımız işe bağlıdır. Aykırı değerlerin tanımlanması için yaygın olarak kullanılan bazı eşikler vardır."
   ]
  },
  {
   "cell_type": "markdown",
   "metadata": {},
   "source": [
    "Genellikle, aykırı değerleri tanımlamak için standart sapma kullanırız. (ortalama - Tstandart sapma, ortalama + Tstandart sapma) aralığının dışında kalan değerler aykırı değerlerdir. Burada T threasholdu ifade eder. Uygulamalara bağlı olarak, 1.5, 2, 3 veya 5'e eşit olarak tanımlanması yaygındır. Ancak, daha önce de söylediğimiz gibi, threashold için kesin değer elimizdeki işe bağlı olarak karar vermemiz gereken bir şeydir."
   ]
  },
  {
   "cell_type": "markdown",
   "metadata": {},
   "source": [
    "Bu kontrol noktasında, aykırı değerlerin tespit edilmesinin iki ana yolunu ele alıyoruz:\n",
    "\n",
    "Değişkenleri görselleştirmek,\n",
    "İstatistiksel teknikleri kullanmak.\n",
    "İkinci yol daha bilimsel ve güvenilirdir ancak birincinin uygulanması kolaydır. Görselleştirme ile başlayalım."
   ]
  },
  {
   "cell_type": "code",
   "execution_count": 1,
   "metadata": {},
   "outputs": [
    {
     "data": {
      "text/plain": [
       "<Figure size 800x550 with 1 Axes>"
      ]
     },
     "metadata": {},
     "output_type": "display_data"
    }
   ],
   "source": [
    "import matplotlib.pyplot as plt\n",
    "import numpy as np\n",
    "import pandas as pd\n",
    "plt.rcParams['figure.dpi'] = 100\n",
    "plt.rcParams['figure.figsize'] = (8,5.5)\n",
    "youtube = pd.read_csv(\"youtube.csv\")\n",
    "youtube.columns = ['sira', 'derece', 'kanal_adi', 'video_sayisi', 'abone_sayisi', 'goruntulenme_sayisi']\n",
    "baslik_font = {'family': 'arial', 'color': 'darkred','weight': 'bold','size': 13 }\n",
    "eksen_font  = {'family': 'arial', 'color': 'darkblue','weight': 'bold','size': 10 }\n",
    "\n",
    "plt.boxplot(youtube[\"goruntulenme_sayisi\"], )\n",
    "plt.title(\"Görüntülenme sayısının kutu grafiği (whis=1.5)\", fontdict=baslik_font)\n",
    "plt.show()"
   ]
  },
  {
   "cell_type": "markdown",
   "metadata": {},
   "source": [
    "Sıkıştırılmış bir kutu gibi görünüyor ve değişkende çok fazla aykırı var gibi görünüyor. Bu kez whis=20 ayarlayarak deneyelim:"
   ]
  },
  {
   "cell_type": "code",
   "execution_count": 2,
   "metadata": {},
   "outputs": [
    {
     "data": {
      "image/png": "[encoded data removed]",
      "text/plain": [
       "<Figure size 432x288 with 1 Axes>"
      ]
     },
     "metadata": {
      "needs_background": "light"
     },
     "output_type": "display_data"
    }
   ],
   "source": [
    "plt.boxplot(youtube[\"goruntulenme_sayisi\"], whis=20)\n",
    "plt.title(\"Görüntülenme sayısının kutu grafiği (whis=20)\", fontdict=baslik_font)\n",
    "plt.show()\n",
    "# Aykırı değerlerin sayısı bu kez azaldı, çünkü eşiği oldukça yüksek tuttuk."
   ]
  },
  {
   "cell_type": "markdown",
   "metadata": {},
   "source": [
    "Aykırı değerlerin tespit edilmesinde bir başka yararlı grafik histogramlardır. Histogramlar değişkenlerin dağılımını gösterir. Dolayısıyla grafiğin en solunda ve en sağında yer alan değerler potansiyel aykırı değerlerdir. goruntulenme_sayisi değişkeninin histogramını çizelim:"
   ]
  },
  {
   "cell_type": "code",
   "execution_count": 3,
   "metadata": {},
   "outputs": [
    {
     "data": {
      "image/png": "[encoded data removed]",
      "text/plain": [
       "<Figure size 432x288 with 1 Axes>"
      ]
     },
     "metadata": {
      "needs_background": "light"
     },
     "output_type": "display_data"
    }
   ],
   "source": [
    "plt.hist(youtube[\"goruntulenme_sayisi\"])\n",
    "plt.title(\"Görüntülenme sayısının histogramı\", fontdict=baslik_font)\n",
    "plt.show()"
   ]
  },
  {
   "cell_type": "markdown",
   "metadata": {},
   "source": [
    "Görselleştirme, potansiyel aykırı değerleri algılamanın kolay ve etkili bir yoludur, ancak özünde öznel bir inceleme türüdür. Şimdi aykırı değerlerin tespiti için bazı istatistiksel yöntemler sunacağız."
   ]
  },
  {
   "cell_type": "markdown",
   "metadata": {},
   "source": [
    "# 2.2. Aykırı değerlerin tespitinde istatistiksel yöntemler\n",
    "### 2.2.1. Z-score\n",
    "Bir değişkende aykırı değerler saptama yöntemlerinden birisi z-score dur. Z-score ilk önce verileri ölçeklendirir, böylece ortalaması 0 ve standart sapması 1 olur ve daha sonra bir değerin ortalamanın (0) ne kadar uzağında olduğunu ölçer. Bir değerin z-score'u ne kadar büyük olursa, o kadar büyük bir ihtimale aykırı değerdir. Bununla birlikte, bir değerin aykırı olduğunu söylemek için, z-score için bir eşik belirlememiz gerekir, bu sayede bu eşiğin üzerindeki skorların aykırı olduğu söylenir.\n",
    "\n",
    "Scipy'ın zscore() işlevini kullanarak *goruntulenme_sayisi değişkeninin z-score'larını hesaplayalım ve eşik değerleri olarak 1, 2, 3 ve 4'ü ayarlayarak aykırı değerleri belirleyelim:"
   ]
  },
  {
   "cell_type": "code",
   "execution_count": 4,
   "metadata": {},
   "outputs": [
    {
     "name": "stdout",
     "output_type": "stream",
     "text": [
      "Eşik değeri: 1\n",
      "Aykırı değerlerin sayısı: 361\n",
      "------\n",
      "Eşik değeri: 2\n",
      "Aykırı değerlerin sayısı: 167\n",
      "------\n",
      "Eşik değeri: 3\n",
      "Aykırı değerlerin sayısı: 95\n",
      "------\n",
      "Eşik değeri: 4\n",
      "Aykırı değerlerin sayısı: 64\n",
      "------\n"
     ]
    }
   ],
   "source": [
    "from scipy.stats import zscore\n",
    "\n",
    "z_scores = zscore(youtube[\"goruntulenme_sayisi\"])\n",
    "for threshold in range(1,5):\n",
    "    print(\"Eşik değeri: {}\".format(threshold))\n",
    "    print(\"Aykırı değerlerin sayısı: {}\".format(len((np.where(z_scores > threshold)[0]))))\n",
    "    print('------')"
   ]
  },
  {
   "cell_type": "markdown",
   "metadata": {},
   "source": [
    "### 2.2.2. Tukey'in yöntemi\n",
    "Bu yöntem Çeyrekler Arası Aralık (IQR/ÇAA) yöntemi olarak da bilinir ve kutu grafiği yöntemi hakkında konuştuğumuzda bu yöntemi çalışırken görürüz. Daha önce söylediğimiz gibi, ÇAA birinci ve üçüncü çeyrekler arasındaki aralıktır. Bu yöntem ÇAA'nın 1,5 katı dışında olan tüm değerleri aykırı değerler olarak değerlendirir. Ancak, aralığı değiştirebiliriz ve 1.5 yerine başka bir eşik değeri ayarlayabiliriz.\n",
    "\n",
    "Eşik değerleri olarak 1, 1.5, 2, ...., 4.5 kullanarak, Tukey'in metoduyla goruntulenme_sayisi değişkenindeki aykırı değerlerin sayısını bulalım: Burada Numpy kütüphanesindeki .percentile() fonksiyonunu kullacağız. Bu fonksiyon bize yüzde olarak parametrelere denk gelen değerleri döndürür. Eşik değerlerini ve aykırı değerlerin sayısını bir veri çerçevesine atalım."
   ]
  },
  {
   "cell_type": "code",
   "execution_count": 5,
   "metadata": {},
   "outputs": [],
   "source": [
    "q75, q25 = np.percentile(youtube[\"goruntulenme_sayisi\"], [75 ,25])\n",
    "caa = q75 - q25"
   ]
  },
  {
   "cell_type": "code",
   "execution_count": 6,
   "metadata": {},
   "outputs": [
    {
     "data": {
      "text/html": [
       "<div>\n",
       "<style scoped>\n",
       "    .dataframe tbody tr th:only-of-type {\n",
       "        vertical-align: middle;\n",
       "    }\n",
       "\n",
       "    .dataframe tbody tr th {\n",
       "        vertical-align: top;\n",
       "    }\n",
       "\n",
       "    .dataframe thead th {\n",
       "        text-align: right;\n",
       "    }\n",
       "</style>\n",
       "<table border=\"1\" class=\"dataframe\">\n",
       "  <thead>\n",
       "    <tr style=\"text-align: right;\">\n",
       "      <th></th>\n",
       "      <th>esik_degeri</th>\n",
       "      <th>aykiri_deger_sayisi</th>\n",
       "    </tr>\n",
       "  </thead>\n",
       "  <tbody>\n",
       "    <tr>\n",
       "      <td>0</td>\n",
       "      <td>1.0</td>\n",
       "      <td>624.0</td>\n",
       "    </tr>\n",
       "    <tr>\n",
       "      <td>1</td>\n",
       "      <td>1.5</td>\n",
       "      <td>475.0</td>\n",
       "    </tr>\n",
       "    <tr>\n",
       "      <td>2</td>\n",
       "      <td>2.0</td>\n",
       "      <td>371.0</td>\n",
       "    </tr>\n",
       "    <tr>\n",
       "      <td>3</td>\n",
       "      <td>2.5</td>\n",
       "      <td>296.0</td>\n",
       "    </tr>\n",
       "    <tr>\n",
       "      <td>4</td>\n",
       "      <td>3.0</td>\n",
       "      <td>242.0</td>\n",
       "    </tr>\n",
       "    <tr>\n",
       "      <td>5</td>\n",
       "      <td>3.5</td>\n",
       "      <td>209.0</td>\n",
       "    </tr>\n",
       "    <tr>\n",
       "      <td>6</td>\n",
       "      <td>4.0</td>\n",
       "      <td>182.0</td>\n",
       "    </tr>\n",
       "    <tr>\n",
       "      <td>7</td>\n",
       "      <td>4.5</td>\n",
       "      <td>151.0</td>\n",
       "    </tr>\n",
       "  </tbody>\n",
       "</table>\n",
       "</div>"
      ],
      "text/plain": [
       "   esik_degeri  aykiri_deger_sayisi\n",
       "0          1.0                624.0\n",
       "1          1.5                475.0\n",
       "2          2.0                371.0\n",
       "3          2.5                296.0\n",
       "4          3.0                242.0\n",
       "5          3.5                209.0\n",
       "6          4.0                182.0\n",
       "7          4.5                151.0"
      ]
     },
     "execution_count": 6,
     "metadata": {},
     "output_type": "execute_result"
    }
   ],
   "source": [
    "esik_degerleri = pd.DataFrame(columns=['esik_degeri', 'aykiri_deger_sayisi'])\n",
    "\n",
    "for esik_degeri in np.arange(1,5,0.5):\n",
    "    min_deger = q25 - (caa*esik_degeri)\n",
    "    maks_deger = q75 + (caa*esik_degeri)\n",
    "    aykiri_deger_sayisi = len((np.where((youtube[\"goruntulenme_sayisi\"] > maks_deger)| \n",
    "                                       (youtube[\"goruntulenme_sayisi\"] < min_deger))[0]))\n",
    "    esik_degerleri = esik_degerleri.append({'esik_degeri': esik_degeri,'aykiri_deger_sayisi': aykiri_deger_sayisi}, \n",
    "                                           ignore_index=True)\n",
    "esik_degerleri"
   ]
  },
  {
   "cell_type": "markdown",
   "metadata": {},
   "source": [
    "# 3. Aykırı değerler nasıl düzeltilir"
   ]
  },
  {
   "cell_type": "markdown",
   "metadata": {},
   "source": [
    "- Aykırı değerleri veri kümemizden çıkarabiliriz.\n",
    "\n",
    "- Aykırı değerlere yeni değerler atayarak sınırlayabiliriz.\n",
    "\n",
    "- Onları analizimiz için zararsız bir değere dönüştürürüz."
   ]
  },
  {
   "cell_type": "markdown",
   "metadata": {},
   "source": [
    "### 3.1. Aykırı değerleri veri kümesinden çıkarma"
   ]
  },
  {
   "cell_type": "markdown",
   "metadata": {},
   "source": [
    "- Aykırı değerlerin ölçüm hatasından veya veri toplama sürecindeki bir problemden kaynaklandığını biliyorsak, bunları çıkarmalıyız.\n",
    "\n",
    "- Eğer aykırı değerleri çıkarmak sonraki aşamalarda anlamlı bir değişiklik yapmıyorsa, onları çıkarabiliriz. Ancak, analizimizi hem aykırı değerlerlerle hem de aykırı değerler olmadan yapmamız gerekir.\n",
    "\n",
    "- Eğer aykırı değerleri çıkarmak takip eden aşamalarda anlamlı bir değişiklik yapıyorsa, ancak bunları ele almanın uygun bir yolunu bulamadıysak, onları veri kümemizden çıkarabiliriz."
   ]
  },
  {
   "cell_type": "markdown",
   "metadata": {},
   "source": [
    "### 3.2. Aykırı değerlerin sınırlandırılması\n",
    "Aykırı değerlerin temel sorunu büyüklükleridir. Aykırı değerleri sınırlandırabilirsek, analizimiz üzerindeki etkileri sınırlı olacaktır. Aykırı değerleri sınırlandırmanın yaygın bir yoluna winsorization denir. winsorize etme tek yönlü veya iki yönlü olarak uygulanabilir. Tek yönlü winsorize etmede, ya değer dağılımının en düşük ucunu ya da en yüksek ucunu sınırlarız. İki yönlü de ise hem en düşük hem de en yüksek ucu sınırlandırırız.\n",
    "\n",
    "winsorize etmede fikir, uç noktaların değerlerini belirli bir yüzdelik değere ayarlamaktır. Örneğin, dağıtımın en yüksek ucunun değerlerini  \n",
    "95\n",
    "  yüzdelik değerine ayarlayabiliriz. Benzer şekilde, en düşük ucun değerlerini  \n",
    "5\n",
    "  yüzdelik değerine ayarlayabiliriz.\n",
    "\n",
    "Bir değişkeni scipy'ın winsorize() metodunu kullanarak winsorize edebiliriz. İki yönlü winsorize etmede parametre olarak ilk elemanın en düşük yüzdelik, ikinci elemanın ise en yüksek yüzdelik olduğu bir değer grubu verdik. Tek yönlü yüzdelik uygulamak istiyorsak, bu satırdaki ilgili öğeyi sıfıra(0) ayarlayabiliriz. Şimdi, goruntulenme_sayisi değişkenini winsorize edelim:"
   ]
  },
  {
   "cell_type": "code",
   "execution_count": 7,
   "metadata": {},
   "outputs": [
    {
     "data": {
      "text/plain": [
       "masked_array(data=[2468241402, 2468241402, 2468241402, ...,  311758426,\n",
       "                     14563764,   73312511],\n",
       "             mask=False,\n",
       "       fill_value=999999,\n",
       "            dtype=int64)"
      ]
     },
     "execution_count": 7,
     "metadata": {},
     "output_type": "execute_result"
    }
   ],
   "source": [
    "from scipy.stats.mstats import winsorize\n",
    "\n",
    "winsorize_goruntulenme = winsorize(youtube[\"goruntulenme_sayisi\"], (0, 0.10))\n",
    "\n",
    "winsorize_goruntulenme"
   ]
  },
  {
   "cell_type": "code",
   "execution_count": 8,
   "metadata": {},
   "outputs": [
    {
     "data": {
      "image/png": "[encoded data removed]",
      "text/plain": [
       "<Figure size 432x288 with 1 Axes>"
      ]
     },
     "metadata": {
      "needs_background": "light"
     },
     "output_type": "display_data"
    }
   ],
   "source": [
    "plt.boxplot(winsorize_goruntulenme)\n",
    "plt.title(\"Görüntülenme sayısının kutu grafiği (whis=1.5)\", fontdict=baslik_font)\n",
    "plt.show()"
   ]
  },
  {
   "cell_type": "markdown",
   "metadata": {},
   "source": [
    "### 3. Aykırı değerleri dönüştürme\n",
    "Aykırı değerlerle başa çıkmanın başka bir yaygın yolu da değişkenin dönüşümüdür. Dönüşüm, yalnızca aykırı değerlerde değil, aynı zamanda normal olmayan veya normale yakın olmayan dağıtımlarda da bize yardımcı olur. Değişkeni dönüştürürken, genellikle monotonik dönüşümler uygularız. Bu dönüşümler, bir değişkendeki değerlerin göreceli sırasını değiştirmezler. Log dönüşümü ve karekök dönüşümü veri biliminde en çok kullanılan dönüşümlerdir."
   ]
  },
  {
   "cell_type": "code",
   "execution_count": 9,
   "metadata": {},
   "outputs": [
    {
     "data": {
      "image/png": "[encoded data removed]",
      "text/plain": [
       "<Figure size 1080x360 with 2 Axes>"
      ]
     },
     "metadata": {
      "needs_background": "light"
     },
     "output_type": "display_data"
    }
   ],
   "source": [
    "plt.figure(figsize = (15,5))\n",
    "\n",
    "plt.subplot(1,2,1)\n",
    "plt.hist(youtube[\"goruntulenme_sayisi\"])\n",
    "plt.title(\"Görüntülenme Sayısı\", fontdict=baslik_font)\n",
    "\n",
    "plt.subplot(1,2,2)\n",
    "plt.hist(np.log(youtube[\"goruntulenme_sayisi\"]))\n",
    "plt.title(\"Görüntülenme Sayısı (log dönüşümlü)\", fontdict=baslik_font)\n",
    "plt.show()"
   ]
  },
  {
   "cell_type": "code",
   "execution_count": 10,
   "metadata": {},
   "outputs": [
    {
     "data": {
      "image/png": "[encoded data removed]",
      "text/plain": [
       "<Figure size 1080x360 with 2 Axes>"
      ]
     },
     "metadata": {
      "needs_background": "light"
     },
     "output_type": "display_data"
    }
   ],
   "source": [
    "plt.figure(figsize = (15,5))\n",
    "\n",
    "plt.subplot(1,2,1)\n",
    "plt.boxplot(youtube[\"goruntulenme_sayisi\"])\n",
    "plt.title(\"Görüntülenme Sayısı\", fontdict=baslik_font)\n",
    "\n",
    "plt.subplot(1,2,2)\n",
    "plt.boxplot(np.log(youtube[\"goruntulenme_sayisi\"]))\n",
    "plt.title(\"Görüntülenme Sayısı (log dönüşümlü)\", fontdict=baslik_font)\n",
    "plt.show()"
   ]
  },
  {
   "cell_type": "code",
   "execution_count": 11,
   "metadata": {},
   "outputs": [
    {
     "data": {
      "text/html": [
       "<div>\n",
       "<style scoped>\n",
       "    .dataframe tbody tr th:only-of-type {\n",
       "        vertical-align: middle;\n",
       "    }\n",
       "\n",
       "    .dataframe tbody tr th {\n",
       "        vertical-align: top;\n",
       "    }\n",
       "\n",
       "    .dataframe thead th {\n",
       "        text-align: right;\n",
       "    }\n",
       "</style>\n",
       "<table border=\"1\" class=\"dataframe\">\n",
       "  <thead>\n",
       "    <tr style=\"text-align: right;\">\n",
       "      <th></th>\n",
       "      <th>esik_degeri</th>\n",
       "      <th>aykiri_deger_sayisi</th>\n",
       "      <th>aykiri_deger_sayisi_log</th>\n",
       "    </tr>\n",
       "  </thead>\n",
       "  <tbody>\n",
       "    <tr>\n",
       "      <td>0</td>\n",
       "      <td>1.0</td>\n",
       "      <td>624.0</td>\n",
       "      <td>326.0</td>\n",
       "    </tr>\n",
       "    <tr>\n",
       "      <td>1</td>\n",
       "      <td>1.5</td>\n",
       "      <td>475.0</td>\n",
       "      <td>58.0</td>\n",
       "    </tr>\n",
       "    <tr>\n",
       "      <td>2</td>\n",
       "      <td>2.0</td>\n",
       "      <td>371.0</td>\n",
       "      <td>19.0</td>\n",
       "    </tr>\n",
       "    <tr>\n",
       "      <td>3</td>\n",
       "      <td>2.5</td>\n",
       "      <td>296.0</td>\n",
       "      <td>14.0</td>\n",
       "    </tr>\n",
       "    <tr>\n",
       "      <td>4</td>\n",
       "      <td>3.0</td>\n",
       "      <td>242.0</td>\n",
       "      <td>13.0</td>\n",
       "    </tr>\n",
       "    <tr>\n",
       "      <td>5</td>\n",
       "      <td>3.5</td>\n",
       "      <td>209.0</td>\n",
       "      <td>8.0</td>\n",
       "    </tr>\n",
       "    <tr>\n",
       "      <td>6</td>\n",
       "      <td>4.0</td>\n",
       "      <td>182.0</td>\n",
       "      <td>6.0</td>\n",
       "    </tr>\n",
       "    <tr>\n",
       "      <td>7</td>\n",
       "      <td>4.5</td>\n",
       "      <td>151.0</td>\n",
       "      <td>4.0</td>\n",
       "    </tr>\n",
       "  </tbody>\n",
       "</table>\n",
       "</div>"
      ],
      "text/plain": [
       "   esik_degeri  aykiri_deger_sayisi  aykiri_deger_sayisi_log\n",
       "0          1.0                624.0                    326.0\n",
       "1          1.5                475.0                     58.0\n",
       "2          2.0                371.0                     19.0\n",
       "3          2.5                296.0                     14.0\n",
       "4          3.0                242.0                     13.0\n",
       "5          3.5                209.0                      8.0\n",
       "6          4.0                182.0                      6.0\n",
       "7          4.5                151.0                      4.0"
      ]
     },
     "execution_count": 11,
     "metadata": {},
     "output_type": "execute_result"
    }
   ],
   "source": [
    "q75_log, q25_log = np.percentile(np.log(youtube[\"goruntulenme_sayisi\"]), [75 ,25])\n",
    "caa_log = q75_log - q25_log\n",
    "log_esik_degerleri = pd.DataFrame(columns=['esik_degeri', 'aykiri_deger_sayisi', 'aykiri_deger_sayisi_log'])\n",
    "\n",
    "for esik_degeri in np.arange(1,5,0.5):\n",
    "    min_deger_log = q25_log - (caa_log*esik_degeri) \n",
    "    maks_deger_log = q75_log + (caa_log*esik_degeri)\n",
    "    min_deger = q25 - (caa*esik_degeri) #log dönüşümü olmadan\n",
    "    maks_deger = q75 + (caa*esik_degeri) #log dönüşümü olmadan\n",
    "    \n",
    "    aykiri_deger_sayisi_log = len((np.where((np.log(youtube[\"goruntulenme_sayisi\"]) > maks_deger_log)| \n",
    "                                       (np.log(youtube[\"goruntulenme_sayisi\"]) < min_deger_log))[0]))\n",
    "    aykiri_deger_sayisi = len((np.where((youtube[\"goruntulenme_sayisi\"] > maks_deger)| \n",
    "                                       (youtube[\"goruntulenme_sayisi\"] < min_deger))[0]))\n",
    "    log_esik_degerleri = log_esik_degerleri.append({'esik_degeri': esik_degeri,\n",
    "                                                    'aykiri_deger_sayisi' : aykiri_deger_sayisi, #log dönüşümü olmadan\n",
    "                                                    'aykiri_deger_sayisi_log': aykiri_deger_sayisi_log \n",
    "                                                    }, ignore_index=True)\n",
    "log_esik_degerleri"
   ]
  },
  {
   "cell_type": "code",
   "execution_count": 12,
   "metadata": {},
   "outputs": [
    {
     "data": {
      "image/png": "[encoded data removed]",
      "text/plain": [
       "<Figure size 432x288 with 1 Axes>"
      ]
     },
     "metadata": {
      "needs_background": "light"
     },
     "output_type": "display_data"
    }
   ],
   "source": [
    "log_esik_degerleri.plot(x = 'esik_degeri', y=['aykiri_deger_sayisi_log', 'aykiri_deger_sayisi'])\n",
    "plt.title('Eşik Değeri & Aykırı Değer Sayısı', fontdict=baslik_font )\n",
    "plt.ylabel('Eşik Değeri', fontdict=eksen_font )\n",
    "plt.xlabel('Aykırı Değer Sayısı', fontdict=eksen_font )\n",
    "plt.legend(('Logaritmik dönüşümlü', 'Normal'))\n",
    "plt.show()"
   ]
  }
 ],
 "metadata": {
  "kernelspec": {
   "display_name": "Python 3",
   "language": "python",
   "name": "python3"
  },
  "language_info": {
   "codemirror_mode": {
    "name": "ipython",
    "version": 3
   },
   "file_extension": ".py",
   "mimetype": "text/x-python",
   "name": "python",
   "nbconvert_exporter": "python",
   "pygments_lexer": "ipython3",
   "version": "3.7.4"
  }
 },
 "nbformat": 4,
 "nbformat_minor": 2
}
